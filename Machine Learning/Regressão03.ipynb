{
 "cells": [
  {
   "cell_type": "markdown",
   "metadata": {},
   "source": [
    "# Modelos de Regressão: Parte 03\n",
    "\n",
    "* Regressão linear simples x Multipla:\n",
    "\n",
    "Quanto tratamos de regressão linear simples, verificamos o comportamento de uma variável em função de outra. Quando tratamos de regressão linear multipla, o modelo será composto por uma série de variáveis que possuem coeficientes lineares.\n",
    "\n",
    "$$ y = \\beta_0 + \\sum \\beta_i $$\n",
    "\n",
    "* Interpretação de modelos de regressão linear (F e p-valor):\n",
    "\n",
    "1. Teste F:\n",
    "\n",
    "Verificamos questões como: O modelo é util para predizer o preço?\n",
    "\n",
    "2. p-valor:\n",
    "\n",
    "Verificamos neste caso quais variáveis possuem relação estatísitca com o preço."
   ]
  },
  {
   "cell_type": "code",
   "execution_count": null,
   "metadata": {},
   "outputs": [],
   "source": []
  }
 ],
 "metadata": {
  "kernelspec": {
   "display_name": "Python 3",
   "language": "python",
   "name": "python3"
  },
  "language_info": {
   "codemirror_mode": {
    "name": "ipython",
    "version": 3
   },
   "file_extension": ".py",
   "mimetype": "text/x-python",
   "name": "python",
   "nbconvert_exporter": "python",
   "pygments_lexer": "ipython3",
   "version": "3.12.0"
  }
 },
 "nbformat": 4,
 "nbformat_minor": 2
}
